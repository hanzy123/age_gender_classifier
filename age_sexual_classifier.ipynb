{
 "cells": [
  {
   "cell_type": "code",
   "execution_count": 1,
   "metadata": {
    "collapsed": false
   },
   "outputs": [
    {
     "name": "stderr",
     "output_type": "stream",
     "text": [
      "Using TensorFlow backend.\n"
     ]
    }
   ],
   "source": [
    "import importlib\n",
    "import pickle\n",
    "import glob\n",
    "import shutil\n",
    "from PIL import Image\n",
    "import os\n",
    "from collections import *\n",
    "import numpy as np\n",
    "import matplotlib.pyplot as plt\n",
    "from tqdm import tqdm\n",
    "from copy import deepcopy\n",
    "import random\n",
    "import math\n",
    "from numpy.random import choice\n",
    "from tqdm import tqdm_notebook as tqdm\n",
    "\n",
    "from keras.applications.resnet50 import ResNet50, decode_predictions, conv_block, identity_block\n",
    "from keras.models import Model, Sequential, load_model\n",
    "from keras.layers import *\n",
    "from keras.optimizers import Adam\n",
    "from keras.regularizers import l2\n",
    "from keras import backend as K\n",
    "from keras.preprocessing import image, sequence\n",
    "from keras.models import model_from_json\n",
    "from keras.callbacks import EarlyStopping"
   ]
  },
  {
   "cell_type": "code",
   "execution_count": 31,
   "metadata": {
    "collapsed": true
   },
   "outputs": [],
   "source": [
    "class AgeSexualClassifier(object):\n",
    "    \"\"\"usage\n",
    "        import cv2\n",
    "        \n",
    "        image = cv2.imread(root_path + '/coarse_tilt_aligned_face.2174.9526735102_da50b50398_o.jpg')\n",
    "        image2 = cv2.imread(root_path + '/coarse_tilt_aligned_face.2175.9523370965_1fcfeccd0e_o.jpg')\n",
    "        image3 = cv2.imread(root_path + '/coarse_tilt_aligned_face.2176.9529425042_9f0435c412_o.jpg')\n",
    "        image = cv2.resize(image,(224,224))\n",
    "        image2 = cv2.resize(image2,(224,224))\n",
    "        image3 = cv2.resize(image3,(224,224))\n",
    "\n",
    "        image_list = []\n",
    "        image_list.append(image)\n",
    "        image_list.append(image2)\n",
    "        image_list.append(image3)\n",
    "        \n",
    "        asc = AgeSexualClassifier()\n",
    "        ret_age = asc.age_classifier(image_list)\n",
    "        ret_sexual = asc.sexual_classifier(image_list)\n",
    "    \"\"\"\n",
    "    def __init__(self, feature_generator_path='/root/dl-data/T99_models/final_models/feature_generator.h5', \n",
    "                sexual_model_path='/root/dl-data/T99_models/final_models/sexual_model.h5', \n",
    "                age_model_path='/root/dl-data/T99_models/final_models/age_model.h5'):\n",
    "        \"\"\"load 3 models\n",
    "        \"\"\"\n",
    "        self.feature_generator = load_model(feature_generator_path)\n",
    "        self.sexual_model = load_model(sexual_model_path)\n",
    "        self.age_model = load_model(age_model_path)\n",
    "    \n",
    "    def _image_list_to_numpy(self, image_list):\n",
    "        \"\"\"transfer imagelist to 4-D numpy with shape (len(image_list),224,224,3)\n",
    "        Args:\n",
    "            image_list : list with shape [[image1],[image2],...]\n",
    "        Return:\n",
    "            image_numpy : 4-D numpy with shape (len(image_list),224,224,3)\n",
    "        \"\"\"\n",
    "        image_numpy = np.zeros((len(image_list),224,224,3))\n",
    "        for i in xrange(len(image_list)):\n",
    "            image_numpy[i] = image_list[i]\n",
    "            \n",
    "        return image_numpy\n",
    "    \n",
    "    def age_classifier(self, image_list):\n",
    "        \"\"\"detect age\n",
    "        Args:\n",
    "            image_list : image list with imagesize (3,224,224)\n",
    "        Retween:\n",
    "            probility numpyarray with shape (len(image_list), 2)\n",
    "        \"\"\"\n",
    "        image_numpy = self._image_list_to_numpy(image_list)\n",
    "        feature = self.feature_generator.predict(image_numpy)\n",
    "        return self.age_model.predict(feature)\n",
    "    \n",
    "    def sexual_classifier(self, image_list):\n",
    "        \"\"\"detect sexual\n",
    "        Args:\n",
    "            image_list : image list with imagesize (3,224,224)\n",
    "            probility numpyarray with shape (len(image_list), 8)\n",
    "        \"\"\"\n",
    "        image_numpy = self._image_list_to_numpy(image_list)\n",
    "        feature = self.feature_generator.predict(image_numpy)\n",
    "        return self.sexual_model.predict(feature)"
   ]
  }
 ],
 "metadata": {
  "kernelspec": {
   "display_name": "Python 2",
   "language": "python",
   "name": "python2"
  },
  "language_info": {
   "codemirror_mode": {
    "name": "ipython",
    "version": 2
   },
   "file_extension": ".py",
   "mimetype": "text/x-python",
   "name": "python",
   "nbconvert_exporter": "python",
   "pygments_lexer": "ipython2",
   "version": "2.7.6"
  }
 },
 "nbformat": 4,
 "nbformat_minor": 0
}
